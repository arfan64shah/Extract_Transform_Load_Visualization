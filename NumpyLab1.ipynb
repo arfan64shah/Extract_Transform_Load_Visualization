{
 "cells": [
  {
   "cell_type": "code",
   "execution_count": 5,
   "id": "1048192f",
   "metadata": {},
   "outputs": [
    {
     "name": "stdout",
     "output_type": "stream",
     "text": [
      "14695.80 15279.00 14307.00 14656.20\n",
      "14681.90 14681.90 12350.10 12952.20\n",
      "12897.70 14377.40 12755.60 14156.40\n",
      "14112.20 14112.20 13154.70 13657.20\n",
      "13625.00 15444.60 13163.60 14982.10\n",
      "14978.20 15572.80 14844.50 15201.00\n",
      "15270.70 15739.70 14522.20 15599.20\n",
      "15477.20 17705.20 15202.80 17429.50\n",
      "17462.10 17712.40 16764.60 17527.00\n",
      "17527.30 17579.60 16087.70 16477.60\n",
      "16476.20 16537.90 14208.20 15170.10\n",
      "15123.70 15497.50 14424.00 14595.40\n",
      "14588.50 14973.30 13691.20 14973.30\n"
     ]
    }
   ],
   "source": [
    "import numpy as np\n",
    "\n",
    "#reading the file using numpy\n",
    "\n",
    "with open(\"file.txt\", \"r\") as se:\n",
    "    print(se.read())"
   ]
  },
  {
   "cell_type": "code",
   "execution_count": 8,
   "id": "0c88de0b",
   "metadata": {},
   "outputs": [
    {
     "ename": "NameError",
     "evalue": "name 'nom' is not defined",
     "output_type": "error",
     "traceback": [
      "\u001b[1;31m---------------------------------------------------------------------------\u001b[0m",
      "\u001b[1;31mNameError\u001b[0m                                 Traceback (most recent call last)",
      "Input \u001b[1;32mIn [8]\u001b[0m, in \u001b[0;36m<cell line: 3>\u001b[1;34m()\u001b[0m\n\u001b[0;32m      1\u001b[0m \u001b[38;5;28;01mdef\u001b[39;00m \u001b[38;5;21mex1readfile\u001b[39m(file, sep):\n\u001b[0;32m      2\u001b[0m     \u001b[38;5;28;01mreturn\u001b[39;00m (np\u001b[38;5;241m.\u001b[39mloadtxt(file, delimiter \u001b[38;5;241m=\u001b[39m sep))\n\u001b[1;32m----> 3\u001b[0m \u001b[38;5;28mprint\u001b[39m(ex1readfile(\u001b[43mnom\u001b[49m, \u001b[38;5;124m'\u001b[39m\u001b[38;5;124m \u001b[39m\u001b[38;5;124m'\u001b[39m))\n",
      "\u001b[1;31mNameError\u001b[0m: name 'nom' is not defined"
     ]
    }
   ],
   "source": [
    "def ex1readfile(file, sep):\n",
    "    return (np.loadtxt(file, delimiter = sep))\n",
    "print(ex1readfile(nom, ' '))"
   ]
  },
  {
   "cell_type": "code",
   "execution_count": null,
   "id": "0912357a",
   "metadata": {},
   "outputs": [],
   "source": []
  }
 ],
 "metadata": {
  "kernelspec": {
   "display_name": "Python 3 (ipykernel)",
   "language": "python",
   "name": "python3"
  },
  "language_info": {
   "codemirror_mode": {
    "name": "ipython",
    "version": 3
   },
   "file_extension": ".py",
   "mimetype": "text/x-python",
   "name": "python",
   "nbconvert_exporter": "python",
   "pygments_lexer": "ipython3",
   "version": "3.10.7"
  }
 },
 "nbformat": 4,
 "nbformat_minor": 5
}
