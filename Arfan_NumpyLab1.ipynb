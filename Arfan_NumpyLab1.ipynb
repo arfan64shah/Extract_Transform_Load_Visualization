{
 "cells": [
  {
   "cell_type": "code",
   "execution_count": 1,
   "id": "0c88de0b",
   "metadata": {},
   "outputs": [],
   "source": [
    "#import numpy library\n",
    "import numpy as np\n",
    "\n",
    "#make an array of the values\n",
    "array = [[14695.80, 15279.00, 14307.00, 14656.20], [14681.90, 14681.90, 12350.10, 12952.20],\n",
    "        [12897.70, 14377.40, 12755.60, 14156.40], [14112.20, 14112.20, 13154.70, 13657.20],\n",
    "        [13625.00, 15444.60, 13163.60, 14982.10], [14978.20, 15572.80, 14844.50, 15201.00],\n",
    "        [15270.70, 15739.70, 14522.20, 15599.20], [15477.20, 17705.20, 15202.80, 17429.50],\n",
    "        [17462.10, 17712.40, 16764.60, 17527.00], [17527.30, 17579.60, 16087.70, 16477.60],\n",
    "        [16476.20, 16537.90, 14208.20, 15170.10], [15123.70, 15497.50, 14424.00, 14595.40],\n",
    "        [14588.50, 14973.30, 13691.20, 14973.30]]"
   ]
  },
  {
   "cell_type": "code",
   "execution_count": 2,
   "id": "0912357a",
   "metadata": {},
   "outputs": [
    {
     "name": "stdout",
     "output_type": "stream",
     "text": [
      "[[14695.8 15279.  14307.  14656.2]\n",
      " [14681.9 14681.9 12350.1 12952.2]\n",
      " [12897.7 14377.4 12755.6 14156.4]\n",
      " [14112.2 14112.2 13154.7 13657.2]\n",
      " [13625.  15444.6 13163.6 14982.1]\n",
      " [14978.2 15572.8 14844.5 15201. ]\n",
      " [15270.7 15739.7 14522.2 15599.2]\n",
      " [15477.2 17705.2 15202.8 17429.5]\n",
      " [17462.1 17712.4 16764.6 17527. ]\n",
      " [17527.3 17579.6 16087.7 16477.6]\n",
      " [16476.2 16537.9 14208.2 15170.1]\n",
      " [15123.7 15497.5 14424.  14595.4]\n",
      " [14588.5 14973.3 13691.2 14973.3]]\n"
     ]
    }
   ],
   "source": [
    "#making a numpy array\n",
    "my_array = np.array(array)\n",
    "print(my_array)"
   ]
  },
  {
   "cell_type": "markdown",
   "id": "3d5e5d30",
   "metadata": {},
   "source": [
    "# Q1: Write the program using NUMPY arrays to calculate HLC/3 and SMA9"
   ]
  },
  {
   "cell_type": "code",
   "execution_count": 3,
   "id": "e84b5975",
   "metadata": {},
   "outputs": [
    {
     "name": "stdout",
     "output_type": "stream",
     "text": [
      "[14747.4, 13328.066666666666, 13763.133333333333, 13641.366666666669, 14530.1, 15206.1, 15287.033333333335, 16779.166666666668, 17334.666666666668, 16714.966666666667, 15305.400000000001, 14838.966666666667, 14545.933333333334]\n"
     ]
    }
   ],
   "source": [
    "#here we are calculating hlc/3 which is actually mean of the last three values in each row\n",
    "hlc3_array = []\n",
    "for i in range(len(my_array)):\n",
    "    mean = np.mean(my_array[i, [1, 2, 3]])\n",
    "    hlc3_array.append(mean)\n",
    "print(hlc3_array)"
   ]
  },
  {
   "cell_type": "code",
   "execution_count": 4,
   "id": "41d7121a",
   "metadata": {},
   "outputs": [
    {
     "name": "stdout",
     "output_type": "stream",
     "text": [
      "[15128.977777777776, 15331.355555555558, 15577.788888888887, 15626.566666666668, 15772.799999999997]\n"
     ]
    }
   ],
   "source": [
    "#now we are calculating SMA9\n",
    "\n",
    "#access closing price\n",
    "last_column = my_array[:, -1]\n",
    "\n",
    "sma9_array = []\n",
    "i = 0\n",
    "for i in range(5):\n",
    "    sma_mean = np.mean(last_column[i:i+9])\n",
    "    sma9_array.append(sma_mean)\n",
    "print(sma9_array)\n"
   ]
  },
  {
   "cell_type": "markdown",
   "id": "12319a60",
   "metadata": {},
   "source": [
    "# 2- We want to get all values from a numpy array that satisfy a certain condition, For example:\n",
    "Na=[1,3,5,3,6,2,8,9,10] element less than 6 result =[1,3,5,3,2]"
   ]
  },
  {
   "cell_type": "code",
   "execution_count": 5,
   "id": "a109f4d7",
   "metadata": {},
   "outputs": [
    {
     "name": "stdout",
     "output_type": "stream",
     "text": [
      "[ True  True  True  True False  True False False False]\n",
      "[1 3 5 3 2]\n"
     ]
    }
   ],
   "source": [
    "na = [1, 3, 5, 3, 6, 2, 8, 9, 10]\n",
    "\n",
    "#convert into numpy array \n",
    "new_array = np.array(na)\n",
    "\n",
    "print(new_array<6)\n",
    "print(new_array[new_array < 6])"
   ]
  },
  {
   "cell_type": "markdown",
   "id": "ebdf6596",
   "metadata": {},
   "source": [
    "# 3-Remember the exercise used in theoretical classes with weights. How can we test the initial array to make sure that no array values' weights are zero? Of course without using cycle"
   ]
  },
  {
   "cell_type": "code",
   "execution_count": 6,
   "id": "e0896b96",
   "metadata": {},
   "outputs": [
    {
     "name": "stdout",
     "output_type": "stream",
     "text": [
      "True\n",
      "False\n"
     ]
    }
   ],
   "source": [
    "#lets take that weight array from class exercise\n",
    "weights= np.array([72, 35, 64, 88, 51, 90, 74, 12])\n",
    "\n",
    "#we can use all() function and it will tell us false if there is zero\n",
    "\n",
    "print(np.all(weights))\n",
    "#print(np.any(weights))\n",
    "\n",
    "#lets check by putting one zero in the array\n",
    "zero_weights = np.array([72, 35, 64, 88, 51, 90, 74, 12, 0])\n",
    "print(np.all(zero_weights))\n",
    "#print(np.any(zero_weights))"
   ]
  },
  {
   "cell_type": "markdown",
   "id": "32f0b95c",
   "metadata": {},
   "source": [
    "so we can see that in our array there are no zero values"
   ]
  },
  {
   "cell_type": "markdown",
   "id": "65b9d8a7",
   "metadata": {},
   "source": [
    "# 4-We want to know if 2 numpy arrays are more or less equal. More or less means that two by two the elements are different only by an epsilon tolerance. Is there a method ? Write the function that uses the method. What happens if some array values are unknown? N/A type of excel?"
   ]
  },
  {
   "cell_type": "code",
   "execution_count": 7,
   "id": "60c60012",
   "metadata": {},
   "outputs": [
    {
     "name": "stdout",
     "output_type": "stream",
     "text": [
      "False\n",
      "True\n"
     ]
    }
   ],
   "source": [
    "#first we can use eqiality operator to compare the arrays\n",
    "\n",
    "array1 = np.array([[1, 2], [2, 1]])\n",
    "array2 = np.array([[2, 3], [4, 5]])\n",
    "\n",
    "compare = array1 == array2\n",
    "equal_arrays = compare.all()\n",
    "print(equal_arrays)\n",
    "\n",
    "array3 = np.array([1, 2, 3, 4])\n",
    "array4 = np.array([1, 2, 3, 4])\n",
    "\n",
    "comp = array3 == array4\n",
    "equ_arr = comp.all()\n",
    "print(equ_arr)"
   ]
  },
  {
   "cell_type": "markdown",
   "id": "1569bb1b",
   "metadata": {},
   "source": [
    "As we ca see when array sare same we get true and when they are different we get false"
   ]
  },
  {
   "cell_type": "code",
   "execution_count": 8,
   "id": "97622a37",
   "metadata": {},
   "outputs": [
    {
     "name": "stdout",
     "output_type": "stream",
     "text": [
      "False\n",
      "True\n"
     ]
    }
   ],
   "source": [
    "#we can also do this comaparison by epilson tolerance using allclose function\n",
    "# we can use equal_nan is equal to true for the na values like below\n",
    "\n",
    "arr1 = np.array([1.00000, 2.000, 0.00001])\n",
    "arr2 = np.array([1.00000, 2.000, 0.0001])\n",
    "\n",
    "equal = np.allclose(arr1, arr2)\n",
    "print(equal)\n",
    "\n",
    "equality = np.allclose([2.00, 3.00, np.nan], [2.00, 3.00, np.nan], equal_nan=True)\n",
    "\n",
    "print(equality)"
   ]
  },
  {
   "cell_type": "markdown",
   "id": "5b86ccd8",
   "metadata": {},
   "source": [
    "# 5- The file used in exercise one is organized by date. That is, each line corresponds to a date. If you consider that the first line of the file has today's date and what follows are dates from previous days, write a function that reads the file and returns a dictionary that has the dates as key and the elements of each file line as data in the form of an array of numpy."
   ]
  },
  {
   "cell_type": "code",
   "execution_count": 9,
   "id": "c8158e76",
   "metadata": {},
   "outputs": [
    {
     "name": "stdout",
     "output_type": "stream",
     "text": [
      "[[14695.8 15279.  14307.  14656.2]\n",
      " [14681.9 14681.9 12350.1 12952.2]\n",
      " [12897.7 14377.4 12755.6 14156.4]\n",
      " [14112.2 14112.2 13154.7 13657.2]\n",
      " [13625.  15444.6 13163.6 14982.1]\n",
      " [14978.2 15572.8 14844.5 15201. ]\n",
      " [15270.7 15739.7 14522.2 15599.2]\n",
      " [15477.2 17705.2 15202.8 17429.5]\n",
      " [17462.1 17712.4 16764.6 17527. ]\n",
      " [17527.3 17579.6 16087.7 16477.6]\n",
      " [16476.2 16537.9 14208.2 15170.1]\n",
      " [15123.7 15497.5 14424.  14595.4]\n",
      " [14588.5 14973.3 13691.2 14973.3]]\n"
     ]
    }
   ],
   "source": [
    "#reading again the original array\n",
    "my_array = np.array(array)\n",
    "print(my_array)"
   ]
  },
  {
   "cell_type": "code",
   "execution_count": 10,
   "id": "a091d3ee",
   "metadata": {},
   "outputs": [
    {
     "ename": "TypeError",
     "evalue": "'numpy.datetime64' object cannot be interpreted as an integer",
     "output_type": "error",
     "traceback": [
      "\u001b[1;31m---------------------------------------------------------------------------\u001b[0m",
      "\u001b[1;31mTypeError\u001b[0m                                 Traceback (most recent call last)",
      "Input \u001b[1;32mIn [10]\u001b[0m, in \u001b[0;36m<cell line: 9>\u001b[1;34m()\u001b[0m\n\u001b[0;32m      4\u001b[0m end_date \u001b[38;5;241m=\u001b[39m np\u001b[38;5;241m.\u001b[39mdatetime64(\u001b[38;5;124m'\u001b[39m\u001b[38;5;124m2022-09-03\u001b[39m\u001b[38;5;124m'\u001b[39m)\n\u001b[0;32m      6\u001b[0m sub_date \u001b[38;5;241m=\u001b[39m start_date \u001b[38;5;241m-\u001b[39m np\u001b[38;5;241m.\u001b[39mtimedelta64(\u001b[38;5;241m1\u001b[39m, \u001b[38;5;124m'\u001b[39m\u001b[38;5;124mD\u001b[39m\u001b[38;5;124m'\u001b[39m)\n\u001b[1;32m----> 9\u001b[0m \u001b[38;5;28;01mfor\u001b[39;00m sub_date \u001b[38;5;129;01min\u001b[39;00m \u001b[38;5;28;43mrange\u001b[39;49m\u001b[43m(\u001b[49m\u001b[43mstart_date\u001b[49m\u001b[43m,\u001b[49m\u001b[43m \u001b[49m\u001b[43mend_date\u001b[49m\u001b[43m,\u001b[49m\u001b[43m \u001b[49m\u001b[38;5;241;43m-\u001b[39;49m\u001b[38;5;241;43m1\u001b[39;49m\u001b[43m)\u001b[49m:\n\u001b[0;32m     10\u001b[0m     new_date \u001b[38;5;241m=\u001b[39m sub_date \u001b[38;5;241m-\u001b[39m np\u001b[38;5;241m.\u001b[39mtimedelta64(\u001b[38;5;241m1\u001b[39m, \u001b[38;5;124m'\u001b[39m\u001b[38;5;124mD\u001b[39m\u001b[38;5;124m'\u001b[39m)\n\u001b[0;32m     11\u001b[0m     my_arr\u001b[38;5;241m.\u001b[39mappend(new_date)\n",
      "\u001b[1;31mTypeError\u001b[0m: 'numpy.datetime64' object cannot be interpreted as an integer"
     ]
    }
   ],
   "source": [
    "my_arr = []\n",
    "\n",
    "start_date = np.datetime64('2022-09-15')\n",
    "end_date = np.datetime64('2022-09-03')\n",
    "\n",
    "sub_date = start_date - np.timedelta64(1, 'D')\n",
    "\n",
    "\n",
    "for sub_date in range(start_date, end_date, -1):\n",
    "    new_date = sub_date - np.timedelta64(1, 'D')\n",
    "    my_arr.append(new_date)\n",
    "print(my_arr)"
   ]
  },
  {
   "cell_type": "markdown",
   "id": "c11d9404",
   "metadata": {},
   "source": [
    "# 6- How about changing last week's exercise code to obtain a pie chart but with the SMA9 data obtained in exercise 1?"
   ]
  },
  {
   "cell_type": "code",
   "execution_count": 13,
   "id": "959f0e4b",
   "metadata": {},
   "outputs": [
    {
     "name": "stdout",
     "output_type": "stream",
     "text": [
      "[15128.977777777776, 15331.355555555558, 15577.788888888887, 15626.566666666668, 15772.799999999997]\n"
     ]
    },
    {
     "data": {
      "image/png": "[encoded data removed]",
      "text/plain": [
       "<Figure size 432x288 with 1 Axes>"
      ]
     },
     "metadata": {},
     "output_type": "display_data"
    }
   ],
   "source": [
    "#sma9 array\n",
    "import matplotlib.pyplot as plt\n",
    "print(sma9_array)\n",
    "\n",
    "#now make a pie chart using these vlaues\n",
    "fig1,ax1=plt.subplots()\n",
    "ax1.pie(sma9_array,autopct='%1.1f%%',shadow=True,startangle=90)\n",
    "ax1.axis('equal')\n",
    "plt.show()"
   ]
  }
 ],
 "metadata": {
  "kernelspec": {
   "display_name": "Python 3 (ipykernel)",
   "language": "python",
   "name": "python3"
  },
  "language_info": {
   "codemirror_mode": {
    "name": "ipython",
    "version": 3
   },
   "file_extension": ".py",
   "mimetype": "text/x-python",
   "name": "python",
   "nbconvert_exporter": "python",
   "pygments_lexer": "ipython3",
   "version": "3.10.7"
  }
 },
 "nbformat": 4,
 "nbformat_minor": 5
}
