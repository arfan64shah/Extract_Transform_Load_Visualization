{
 "cells": [
  {
   "cell_type": "code",
   "execution_count": null,
   "id": "809631f9",
   "metadata": {},
   "outputs": [],
   "source": [
    "import dash\n",
    "import dash_core_components as dcc\n",
    "import dash_html_components as html"
   ]
  },
  {
   "cell_type": "code",
   "execution_count": null,
   "id": "aafc6375",
   "metadata": {},
   "outputs": [],
   "source": [
    "app = dash.Dash()"
   ]
  },
  {
   "cell_type": "code",
   "execution_count": null,
   "id": "b432b440",
   "metadata": {},
   "outputs": [],
   "source": [
    "app.layout = html.Div([\n",
    "    html.H1(children= 'Hello Arfan',\n",
    "            style = {\n",
    "                'textAlign': 'center',\n",
    "                'color': '#00bbff'\n",
    "            }),\n",
    "    html.Div(children= 'Here you can draw your plotly plots',\n",
    "             style = {\n",
    "                'textAlign': 'center',\n",
    "                'color': '#00bbff'\n",
    "            }\n",
    "            ),\n",
    "    \n",
    "    dcc.Graph(\n",
    "        id = \"Sample Chart\",\n",
    "        figure = {\n",
    "            'data': [\n",
    "                {'x': [1, 2, 3, 4, 5], 'y': [4, 7, 8, 9, 10], 'type': 'bar', 'name': 'First Chart'},\n",
    "                {'x': [1, 2, 3, 4, 5], 'y': [12, 34, 23, 12, 24], 'type': 'bar', 'name': 'Second Chart'}\n",
    "                \n",
    "            ],\n",
    "            'layout': {\n",
    "                'title': 'Simple Bar Chart'\n",
    "            }\n",
    "        }\n",
    "    )\n",
    "])"
   ]
  },
  {
   "cell_type": "code",
   "execution_count": null,
   "id": "0549b562",
   "metadata": {},
   "outputs": [],
   "source": [
    "if __name__ == '__main__':\n",
    "    app.run_server(port = 4050)"
   ]
  },
  {
   "cell_type": "code",
   "execution_count": null,
   "id": "212ea088",
   "metadata": {},
   "outputs": [],
   "source": []
  }
 ],
 "metadata": {
  "kernelspec": {
   "display_name": "Python 3 (ipykernel)",
   "language": "python",
   "name": "python3"
  },
  "language_info": {
   "codemirror_mode": {
    "name": "ipython",
    "version": 3
   },
   "file_extension": ".py",
   "mimetype": "text/x-python",
   "name": "python",
   "nbconvert_exporter": "python",
   "pygments_lexer": "ipython3",
   "version": "3.10.7"
  }
 },
 "nbformat": 4,
 "nbformat_minor": 5
}
