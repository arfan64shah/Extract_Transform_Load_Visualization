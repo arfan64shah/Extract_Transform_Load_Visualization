{
 "cells": [
  {
   "cell_type": "code",
   "execution_count": 1,
   "id": "809631f9",
   "metadata": {},
   "outputs": [
    {
     "name": "stderr",
     "output_type": "stream",
     "text": [
      "C:\\Users\\arfan.shah\\AppData\\Local\\Temp\\ipykernel_11936\\954449312.py:2: UserWarning: \n",
      "The dash_core_components package is deprecated. Please replace\n",
      "`import dash_core_components as dcc` with `from dash import dcc`\n",
      "  import dash_core_components as dcc\n",
      "C:\\Users\\arfan.shah\\AppData\\Local\\Temp\\ipykernel_11936\\954449312.py:3: UserWarning: \n",
      "The dash_html_components package is deprecated. Please replace\n",
      "`import dash_html_components as html` with `from dash import html`\n",
      "  import dash_html_components as html\n"
     ]
    }
   ],
   "source": [
    "import dash\n",
    "import dash_core_components as dcc\n",
    "import dash_html_components as html"
   ]
  },
  {
   "cell_type": "code",
   "execution_count": 2,
   "id": "aafc6375",
   "metadata": {},
   "outputs": [],
   "source": [
    "app = dash.Dash()"
   ]
  },
  {
   "cell_type": "code",
   "execution_count": 3,
   "id": "b432b440",
   "metadata": {},
   "outputs": [],
   "source": [
    "app.layout = html.Div([\n",
    "    html.H1(children= 'Hello Arfan',\n",
    "            style = {\n",
    "                'textAlign': 'center',\n",
    "                'color': '#00bbff'\n",
    "            }),\n",
    "    html.Div(children= 'Here you can draw your plotly plots',\n",
    "             style = {\n",
    "                'textAlign': 'center',\n",
    "                'color': '#00bbff'\n",
    "            }\n",
    "            ),\n",
    "    \n",
    "    dcc.Graph(\n",
    "        id = \"Sample Chart\",\n",
    "        figure = {\n",
    "            'data': [\n",
    "                {'x': [1, 2, 3, 4, 5], 'y': [4, 7, 8, 9, 10], 'type': 'bar', 'name': 'First Chart'},\n",
    "                {'x': [1, 2, 3, 4, 5], 'y': [12, 34, 23, 12, 24], 'type': 'bar', 'name': 'Second Chart'}\n",
    "                \n",
    "            ],\n",
    "            'layout': {\n",
    "                'title': 'Simple Bar Chart'\n",
    "            }\n",
    "        }\n",
    "    )\n",
    "])"
   ]
  },
  {
   "cell_type": "code",
   "execution_count": null,
   "id": "0549b562",
   "metadata": {},
   "outputs": [
    {
     "name": "stdout",
     "output_type": "stream",
     "text": [
      "Dash is running on http://127.0.0.1:4050/\n",
      "\n",
      " * Serving Flask app '__main__'\n",
      " * Debug mode: off\n"
     ]
    },
    {
     "name": "stderr",
     "output_type": "stream",
     "text": [
      "WARNING: This is a development server. Do not use it in a production deployment. Use a production WSGI server instead.\n",
      " * Running on http://127.0.0.1:4050\n",
      "Press CTRL+C to quit\n",
      "127.0.0.1 - - [15/Nov/2022 13:25:36] \"GET / HTTP/1.1\" 200 -\n",
      "127.0.0.1 - - [15/Nov/2022 13:25:36] \"GET /_dash-layout HTTP/1.1\" 200 -\n",
      "127.0.0.1 - - [15/Nov/2022 13:25:36] \"GET /_dash-dependencies HTTP/1.1\" 200 -\n",
      "127.0.0.1 - - [15/Nov/2022 13:25:36] \"GET /_dash-component-suites/dash/dcc/async-graph.js HTTP/1.1\" 304 -\n",
      "127.0.0.1 - - [15/Nov/2022 13:25:36] \"GET /_dash-component-suites/dash/dcc/async-plotlyjs.js HTTP/1.1\" 304 -\n"
     ]
    }
   ],
   "source": [
    "if __name__ == '__main__':\n",
    "    app.run_server(port = 4050)"
   ]
  },
  {
   "cell_type": "code",
   "execution_count": null,
   "id": "212ea088",
   "metadata": {},
   "outputs": [],
   "source": []
  }
 ],
 "metadata": {
  "kernelspec": {
   "display_name": "Python 3 (ipykernel)",
   "language": "python",
   "name": "python3"
  },
  "language_info": {
   "codemirror_mode": {
    "name": "ipython",
    "version": 3
   },
   "file_extension": ".py",
   "mimetype": "text/x-python",
   "name": "python",
   "nbconvert_exporter": "python",
   "pygments_lexer": "ipython3",
   "version": "3.10.7"
  }
 },
 "nbformat": 4,
 "nbformat_minor": 5
}
