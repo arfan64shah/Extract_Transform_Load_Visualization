{
 "cells": [
  {
   "cell_type": "code",
   "execution_count": 1,
   "id": "34a32a8b",
   "metadata": {},
   "outputs": [
    {
     "name": "stderr",
     "output_type": "stream",
     "text": [
      "C:\\Users\\arfan.shah\\AppData\\Local\\Temp\\ipykernel_4516\\1113148587.py:4: UserWarning: \n",
      "The dash_core_components package is deprecated. Please replace\n",
      "`import dash_core_components as dcc` with `from dash import dcc`\n",
      "  import dash_core_components as dcc\n",
      "C:\\Users\\arfan.shah\\AppData\\Local\\Temp\\ipykernel_4516\\1113148587.py:5: UserWarning: \n",
      "The dash_html_components package is deprecated. Please replace\n",
      "`import dash_html_components as html` with `from dash import html`\n",
      "  import dash_html_components as html\n"
     ]
    }
   ],
   "source": [
    "#import required libraries\n",
    "import pandas as pd\n",
    "import dash\n",
    "import dash_core_components as dcc\n",
    "import dash_html_components as html\n",
    "from flask import Flask\n",
    "import dash_bootstrap_components as dbc\n",
    "import plotly.express as px\n",
    "import plotly.graph_objects as go\n",
    "from plotly.subplots import make_subplots"
   ]
  },
  {
   "cell_type": "code",
   "execution_count": 2,
   "id": "1a33576d",
   "metadata": {},
   "outputs": [],
   "source": [
    "#read dataset and make it ready for later use\n",
    "dataset = pd.read_excel('dashboard.xlsx')\n",
    "\n",
    "def success(outcome):\n",
    "    if outcome == \"Success\":\n",
    "        return 1\n",
    "    else:\n",
    "        return 0\n",
    "def failure(outcome):\n",
    "    if outcome == \"Failure\":\n",
    "        return 1\n",
    "    else:\n",
    "        return 0\n",
    "\n",
    "\n",
    "dataset[\"Success\"] = dataset.Outcome.apply(success)\n",
    "dataset[\"Failure\"] = dataset.Outcome.apply(failure)\n",
    "\n",
    "\n",
    "number_of_calls = dataset.groupby(\"Date\")[\"Country\"].count()\n",
    "number_of_success_calls = dataset.groupby(\"Date\")[\"Success\"].sum()\n",
    "number_of_failure_calls = dataset.groupby(\"Date\")[\"Failure\"].sum()\n",
    "\n",
    "ratio_success_overall = number_of_success_calls / number_of_calls * 100\n",
    "\n",
    "failed_success_timeout = dataset.groupby(\"Outcome\")[\"Outcome\"].count()\n",
    "\n",
    "number_of_calls_by_state = dataset.groupby(\"State\")[\"Success\"].count()\n",
    "number_of_calls_by_state_success = dataset.groupby(\"State\")[\"Success\"].sum()\n",
    "\n",
    "\n",
    "number_of_calls_by_state_ratio = (number_of_calls_by_state_success / number_of_calls_by_state * 100).sort_values(ascending=False)\n",
    "\n",
    "success_time_out = dataset[dataset[\"Success\"] == 1].groupby(\"Time_Period\")[\"Success\"].count().sort_index()"
   ]
  },
  {
   "cell_type": "code",
   "execution_count": 3,
   "id": "2d2cb6ef",
   "metadata": {},
   "outputs": [],
   "source": [
    "#initialize app\n",
    "server = Flask(__name__)\n",
    "app = dash.Dash(__name__, server = server, external_stylesheets = [dbc.themes.BOOTSTRAP, dbc.icons.BOOTSTRAP])\n"
   ]
  },
  {
   "cell_type": "code",
   "execution_count": 4,
   "id": "2a2ace9a",
   "metadata": {},
   "outputs": [],
   "source": [
    "#all the components\n",
    "header = html.H1(\"Welcome to the Dashboard\", style = {'color': '#808080', 'textAlign': 'center', 'backgroundColor':'lightblue'})\n",
    "\n",
    "#figure1\n",
    "figure1 = go.Figure()\n",
    "figure1.add_trace(go.Scatter(x=number_of_calls.index, y=number_of_calls.values,\n",
    "                    mode='lines+markers', name='Total calls', marker = {'color' : '#C45AEC'}))\n",
    "figure1.add_trace(go.Scatter(x=number_of_success_calls.index, y=number_of_success_calls.values,\n",
    "                    mode='lines+markers',\n",
    "                    name='Successful calls', marker = {'color' : '#997070'}))\n",
    "figure1.add_trace(go.Scatter(x=number_of_failure_calls.index, y=number_of_failure_calls.values,\n",
    "                    mode='lines+markers', \n",
    "                    name='Failed calls', marker = {'color' : '#E9AB17'}))\n",
    "figure1.add_trace(go.Scatter(x=ratio_success_overall.index, y=ratio_success_overall.values,\n",
    "                    mode='lines+markers', \n",
    "                    name='Ratio', marker = {'color' : '#9AFEFF'}))\n",
    "figure1.update_layout(title = \"Ratio and Time Series of Calls\")\n",
    "figure1[\"layout\"][\"xaxis\"][\"title\"] = \"Date\"\n",
    "figure1[\"layout\"][\"yaxis\"][\"title\"] = \"Number of calls/Ratio\"\n",
    "\n",
    "#figure2\n",
    "figure2 = go.Figure()\n",
    "figure2.add_trace(go.Bar(x=number_of_success_calls.index, y=number_of_success_calls.values,\n",
    "                    name='Successful calls', marker = {'color' : '#FFA500'}))\n",
    "\n",
    "figure2.add_trace(go.Bar(x=number_of_failure_calls.index, y=number_of_failure_calls.values, \n",
    "                    name='Failed calls', marker = {'color' : '#808000'}))\n",
    "figure2.update_layout(title = \"Successful/Failure calls\")\n",
    "figure2[\"layout\"][\"xaxis\"][\"title\"] = \"Date\"\n",
    "figure2[\"layout\"][\"yaxis\"][\"title\"] = \"Number of calls\"\n",
    "\n",
    "#figure3\n",
    "sunflowers_colors = ['rgb(177, 127, 38)', 'rgb(205, 152, 36)', 'rgb(99, 79, 37)']\n",
    "figure3 = go.Figure(data=[go.Pie(labels = failed_success_timeout.index, values = failed_success_timeout.values,\n",
    "                                marker_colors=sunflowers_colors)])\n",
    "figure3.update_layout(title = \"Success and Failure and Timeout\")\n",
    "\n",
    "#figure4\n",
    "figure4 = go.Figure()\n",
    "figure4.add_trace(go.Bar(x=number_of_calls_by_state_ratio.index, y=number_of_calls_by_state_ratio.values,\n",
    "                    name='Successful calls', marker = {'color': '#FFD700'}))\n",
    "figure4.update_layout(title =  \"Most successfull state by success call\")\n",
    "figure4[\"layout\"][\"xaxis\"][\"title\"] = \"Date\"\n",
    "figure4[\"layout\"][\"yaxis\"][\"title\"] = \"Success Ratio\"\n",
    "\n",
    "#figure5\n",
    "figure5 = make_subplots(rows=1, cols=2, \n",
    "    column_widths=[0.5, 0.5],specs=[[{\"type\": \"pie\"}, {\"type\": \"pie\"}]])\n",
    "figure5.add_trace(row=1, col=1,\n",
    "    trace=go.Pie(labels=number_of_calls_by_state.index, values=number_of_calls_by_state.values,)) \n",
    "figure5.add_trace(row=1, col=2,\n",
    "    trace=go.Pie(labels=number_of_calls_by_state_success.index, values=number_of_calls_by_state_success.values))\n",
    "figure5.update_layout(title = \"left:calls/state & right:successcalls/state\")\n",
    "\n",
    "#figure6\n",
    "figure6 = go.Figure()\n",
    "figure6.add_trace(go.Bar(x=success_time_out.index, y=success_time_out.values, marker = {'color': '#808000'}))\n",
    "figure6.add_trace(go.Scatter(x=success_time_out.index, y=success_time_out.values, marker = {'color': '#FFD700'}))\n",
    "figure6.update_layout(title = \"Successful calls by Time\")\n",
    "figure6[\"layout\"][\"xaxis\"][\"title\"] = \"Hourly Time\"\n",
    "figure6[\"layout\"][\"yaxis\"][\"title\"] = \"Successful Calls\"\n",
    "\n"
   ]
  },
  {
   "cell_type": "code",
   "execution_count": 5,
   "id": "24530f67",
   "metadata": {},
   "outputs": [],
   "source": [
    "#layout\n",
    "app.layout = html.Div([\n",
    "    dbc.Row([\n",
    "         header\n",
    "    ]),\n",
    "    dbc.Row([\n",
    "        dbc.Col([dcc.Graph(figure = figure1)]),\n",
    "        dbc.Col([dcc.Graph(figure = figure2)])\n",
    "    ]),\n",
    "    dbc.Row([\n",
    "        dbc.Col([dcc.Graph(figure = figure3)]),\n",
    "        dbc.Col([dcc.Graph(figure = figure4)])\n",
    "    ]),\n",
    "    dbc.Row([\n",
    "        dbc.Col([dcc.Graph(figure = figure5)])\n",
    "    ]),\n",
    "    dbc.Row([\n",
    "        dbc.Col([dcc.Graph(figure = figure6)])\n",
    "    ])\n",
    "])"
   ]
  },
  {
   "cell_type": "code",
   "execution_count": null,
   "id": "9b0157ed",
   "metadata": {},
   "outputs": [
    {
     "name": "stdout",
     "output_type": "stream",
     "text": [
      "Dash is running on http://127.0.0.1:4050/\n",
      "\n",
      " * Serving Flask app '__main__'\n",
      " * Debug mode: off\n"
     ]
    },
    {
     "name": "stderr",
     "output_type": "stream",
     "text": [
      "WARNING: This is a development server. Do not use it in a production deployment. Use a production WSGI server instead.\n",
      " * Running on http://127.0.0.1:4050\n",
      "Press CTRL+C to quit\n",
      "127.0.0.1 - - [20/Nov/2022 18:31:21] \"GET / HTTP/1.1\" 200 -\n",
      "127.0.0.1 - - [20/Nov/2022 18:31:22] \"GET /_dash-dependencies HTTP/1.1\" 200 -\n",
      "127.0.0.1 - - [20/Nov/2022 18:31:22] \"GET /_dash-layout HTTP/1.1\" 200 -\n",
      "127.0.0.1 - - [20/Nov/2022 18:31:22] \"GET /_dash-component-suites/dash/dcc/async-graph.js HTTP/1.1\" 304 -\n",
      "127.0.0.1 - - [20/Nov/2022 18:31:22] \"GET /_dash-component-suites/dash/dcc/async-plotlyjs.js HTTP/1.1\" 304 -\n"
     ]
    }
   ],
   "source": [
    "#run app\n",
    "app.run_server(port = 4050)"
   ]
  },
  {
   "cell_type": "code",
   "execution_count": null,
   "id": "72eac78a",
   "metadata": {},
   "outputs": [],
   "source": []
  }
 ],
 "metadata": {
  "kernelspec": {
   "display_name": "Python 3 (ipykernel)",
   "language": "python",
   "name": "python3"
  },
  "language_info": {
   "codemirror_mode": {
    "name": "ipython",
    "version": 3
   },
   "file_extension": ".py",
   "mimetype": "text/x-python",
   "name": "python",
   "nbconvert_exporter": "python",
   "pygments_lexer": "ipython3",
   "version": "3.10.7"
  }
 },
 "nbformat": 4,
 "nbformat_minor": 5
}
